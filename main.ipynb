{
 "cells": [
  {
   "cell_type": "code",
   "execution_count": 9,
   "id": "4e0054d2",
   "metadata": {},
   "outputs": [],
   "source": [
    "%load_ext autoreload\n",
    "%autoreload 2"
   ]
  },
  {
   "cell_type": "code",
   "execution_count": 10,
   "id": "fffc8eb2",
   "metadata": {},
   "outputs": [
    {
     "name": "stdout",
     "output_type": "stream",
     "text": [
      "data/MBTA_Bus_Arrival_Departure_Times_2024 folder already exists, skipping download and unzip\n",
      "data/MBTA_Bus_Arrival_Departure_Times_2025 folder already exists, skipping download and unzip\n"
     ]
    }
   ],
   "source": [
    "# Download MBTA bus data if it hasn't been downloaded yet\n",
    "from download_mbta_data import download_mbta_bus_data\n",
    "\n",
    "download_mbta_bus_data()"
   ]
  },
  {
   "cell_type": "code",
   "execution_count": 19,
   "id": "6a08a185",
   "metadata": {},
   "outputs": [
    {
     "name": "stdout",
     "output_type": "stream",
     "text": [
      "2024 data already exists, skipping download\n"
     ]
    }
   ],
   "source": [
    "from retrieve_weather_data import retrieve_weather_data\n",
    "\n",
    "retrieve_weather_data()"
   ]
  },
  {
   "cell_type": "code",
   "execution_count": 23,
   "id": "ab53b08e",
   "metadata": {},
   "outputs": [
    {
     "data": {
      "text/plain": [
       "route_id\n",
       "111    1294788\n",
       "743     797474\n",
       "28      770486\n",
       "23      753176\n",
       "SL1     738400\n",
       "        ...   \n",
       "192       5562\n",
       "600       4410\n",
       "171       4398\n",
       "194       3216\n",
       "rad         44\n",
       "Name: count, Length: 153, dtype: int64"
      ]
     },
     "execution_count": 23,
     "metadata": {},
     "output_type": "execute_result"
    }
   ],
   "source": [
    "import pandas as pd\n",
    "from glob import glob\n",
    "\n",
    "mbta_files = glob(\"data/MBTA_Bus_Arrival_Departure_Times_2024/MBTA-Bus-Arrival-Departure-Times_2024*.csv\")\n",
    "mbta_data = pd.concat([pd.read_csv(f) for f in mbta_files], ignore_index=True)\n",
    "\n",
    "mbta_data[\"route_id\"].value_counts()"
   ]
  },
  {
   "cell_type": "code",
   "execution_count": 24,
   "id": "e03f0af6",
   "metadata": {},
   "outputs": [
    {
     "data": {
      "text/plain": [
       "route_id\n",
       "111    1170143\n",
       "28      657199\n",
       "23      640808\n",
       "39      572285\n",
       "66      562495\n",
       "        ...   \n",
       "240        416\n",
       "24         374\n",
       "95         368\n",
       "04         322\n",
       "08          17\n",
       "Name: count, Length: 72, dtype: int64"
      ]
     },
     "execution_count": 24,
     "metadata": {},
     "output_type": "execute_result"
    }
   ],
   "source": [
    "mbta_data.dropna(inplace=True)\n",
    "mbta_data[\"route_id\"].value_counts()"
   ]
  },
  {
   "cell_type": "code",
   "execution_count": 114,
   "id": "69298804",
   "metadata": {},
   "outputs": [
    {
     "name": "stderr",
     "output_type": "stream",
     "text": [
      "/var/folders/3r/88snk92d11b587958zlh76b80000gn/T/ipykernel_41221/1260497511.py:2: SettingWithCopyWarning: \n",
      "A value is trying to be set on a copy of a slice from a DataFrame.\n",
      "Try using .loc[row_indexer,col_indexer] = value instead\n",
      "\n",
      "See the caveats in the documentation: https://pandas.pydata.org/pandas-docs/stable/user_guide/indexing.html#returning-a-view-versus-a-copy\n",
      "  filtered_mbta_data[\"service_date\"] = pd.to_datetime(filtered_mbta_data[\"service_date\"])\n",
      "/var/folders/3r/88snk92d11b587958zlh76b80000gn/T/ipykernel_41221/1260497511.py:3: SettingWithCopyWarning: \n",
      "A value is trying to be set on a copy of a slice from a DataFrame.\n",
      "Try using .loc[row_indexer,col_indexer] = value instead\n",
      "\n",
      "See the caveats in the documentation: https://pandas.pydata.org/pandas-docs/stable/user_guide/indexing.html#returning-a-view-versus-a-copy\n",
      "  filtered_mbta_data[\"scheduled\"] = pd.to_datetime(filtered_mbta_data[\"scheduled\"])\n",
      "/var/folders/3r/88snk92d11b587958zlh76b80000gn/T/ipykernel_41221/1260497511.py:4: SettingWithCopyWarning: \n",
      "A value is trying to be set on a copy of a slice from a DataFrame.\n",
      "Try using .loc[row_indexer,col_indexer] = value instead\n",
      "\n",
      "See the caveats in the documentation: https://pandas.pydata.org/pandas-docs/stable/user_guide/indexing.html#returning-a-view-versus-a-copy\n",
      "  filtered_mbta_data[\"actual\"] = pd.to_datetime(filtered_mbta_data[\"actual\"])\n"
     ]
    }
   ],
   "source": [
    "filtered_mbta_data = mbta_data[[\"service_date\",\"route_id\", \"scheduled\" ,\"actual\"]]\n",
    "filtered_mbta_data[\"service_date\"] = pd.to_datetime(filtered_mbta_data[\"service_date\"])\n",
    "filtered_mbta_data[\"scheduled\"] = pd.to_datetime(filtered_mbta_data[\"scheduled\"])\n",
    "filtered_mbta_data[\"actual\"] = pd.to_datetime(filtered_mbta_data[\"actual\"])\n"
   ]
  },
  {
   "cell_type": "code",
   "execution_count": 117,
   "id": "25d1a585",
   "metadata": {},
   "outputs": [
    {
     "name": "stderr",
     "output_type": "stream",
     "text": [
      "/var/folders/3r/88snk92d11b587958zlh76b80000gn/T/ipykernel_41221/2435066006.py:4: SettingWithCopyWarning: \n",
      "A value is trying to be set on a copy of a slice from a DataFrame.\n",
      "Try using .loc[row_indexer,col_indexer] = value instead\n",
      "\n",
      "See the caveats in the documentation: https://pandas.pydata.org/pandas-docs/stable/user_guide/indexing.html#returning-a-view-versus-a-copy\n",
      "  filtered_mbta_data[\"day_of_week\"] = filtered_mbta_data[\"service_date\"].dt.dayofweek  # Monday=0\n",
      "/var/folders/3r/88snk92d11b587958zlh76b80000gn/T/ipykernel_41221/2435066006.py:5: SettingWithCopyWarning: \n",
      "A value is trying to be set on a copy of a slice from a DataFrame.\n",
      "Try using .loc[row_indexer,col_indexer] = value instead\n",
      "\n",
      "See the caveats in the documentation: https://pandas.pydata.org/pandas-docs/stable/user_guide/indexing.html#returning-a-view-versus-a-copy\n",
      "  filtered_mbta_data[\"is_weekend\"] = filtered_mbta_data[\"day_of_week\"].isin([5, 6]).astype(int)\n"
     ]
    },
    {
     "name": "stdout",
     "output_type": "stream",
     "text": [
      "10530554\n"
     ]
    },
    {
     "name": "stderr",
     "output_type": "stream",
     "text": [
      "/var/folders/3r/88snk92d11b587958zlh76b80000gn/T/ipykernel_41221/2435066006.py:8: SettingWithCopyWarning: \n",
      "A value is trying to be set on a copy of a slice from a DataFrame.\n",
      "Try using .loc[row_indexer,col_indexer] = value instead\n",
      "\n",
      "See the caveats in the documentation: https://pandas.pydata.org/pandas-docs/stable/user_guide/indexing.html#returning-a-view-versus-a-copy\n",
      "  filtered_mbta_data[\"is_holiday\"] = filtered_mbta_data[\"service_date\"].dt.date.isin(us_holidays).astype(int)\n"
     ]
    },
    {
     "data": {
      "text/html": [
       "<div>\n",
       "<style scoped>\n",
       "    .dataframe tbody tr th:only-of-type {\n",
       "        vertical-align: middle;\n",
       "    }\n",
       "\n",
       "    .dataframe tbody tr th {\n",
       "        vertical-align: top;\n",
       "    }\n",
       "\n",
       "    .dataframe thead th {\n",
       "        text-align: right;\n",
       "    }\n",
       "</style>\n",
       "<table border=\"1\" class=\"dataframe\">\n",
       "  <thead>\n",
       "    <tr style=\"text-align: right;\">\n",
       "      <th></th>\n",
       "      <th>service_date</th>\n",
       "      <th>route_id</th>\n",
       "      <th>scheduled</th>\n",
       "      <th>actual</th>\n",
       "      <th>day_of_week</th>\n",
       "      <th>is_weekend</th>\n",
       "      <th>is_holiday</th>\n",
       "    </tr>\n",
       "  </thead>\n",
       "  <tbody>\n",
       "    <tr>\n",
       "      <th>7</th>\n",
       "      <td>2024-09-01</td>\n",
       "      <td>01</td>\n",
       "      <td>1900-01-01 11:25:00+00:00</td>\n",
       "      <td>1900-01-01 11:24:58+00:00</td>\n",
       "      <td>6</td>\n",
       "      <td>1</td>\n",
       "      <td>0</td>\n",
       "    </tr>\n",
       "    <tr>\n",
       "      <th>8</th>\n",
       "      <td>2024-09-01</td>\n",
       "      <td>01</td>\n",
       "      <td>1900-01-01 11:29:00+00:00</td>\n",
       "      <td>1900-01-01 11:27:02+00:00</td>\n",
       "      <td>6</td>\n",
       "      <td>1</td>\n",
       "      <td>0</td>\n",
       "    </tr>\n",
       "    <tr>\n",
       "      <th>11</th>\n",
       "      <td>2024-09-01</td>\n",
       "      <td>01</td>\n",
       "      <td>1900-01-01 11:32:00+00:00</td>\n",
       "      <td>1900-01-01 11:29:35+00:00</td>\n",
       "      <td>6</td>\n",
       "      <td>1</td>\n",
       "      <td>0</td>\n",
       "    </tr>\n",
       "    <tr>\n",
       "      <th>12</th>\n",
       "      <td>2024-09-01</td>\n",
       "      <td>01</td>\n",
       "      <td>1900-01-01 11:35:00+00:00</td>\n",
       "      <td>1900-01-01 11:33:28+00:00</td>\n",
       "      <td>6</td>\n",
       "      <td>1</td>\n",
       "      <td>0</td>\n",
       "    </tr>\n",
       "    <tr>\n",
       "      <th>13</th>\n",
       "      <td>2024-09-01</td>\n",
       "      <td>01</td>\n",
       "      <td>1900-01-01 11:39:00+00:00</td>\n",
       "      <td>1900-01-01 11:35:39+00:00</td>\n",
       "      <td>6</td>\n",
       "      <td>1</td>\n",
       "      <td>0</td>\n",
       "    </tr>\n",
       "  </tbody>\n",
       "</table>\n",
       "</div>"
      ],
      "text/plain": [
       "   service_date route_id                 scheduled                    actual   \n",
       "7    2024-09-01       01 1900-01-01 11:25:00+00:00 1900-01-01 11:24:58+00:00  \\\n",
       "8    2024-09-01       01 1900-01-01 11:29:00+00:00 1900-01-01 11:27:02+00:00   \n",
       "11   2024-09-01       01 1900-01-01 11:32:00+00:00 1900-01-01 11:29:35+00:00   \n",
       "12   2024-09-01       01 1900-01-01 11:35:00+00:00 1900-01-01 11:33:28+00:00   \n",
       "13   2024-09-01       01 1900-01-01 11:39:00+00:00 1900-01-01 11:35:39+00:00   \n",
       "\n",
       "    day_of_week  is_weekend  is_holiday  \n",
       "7             6           1           0  \n",
       "8             6           1           0  \n",
       "11            6           1           0  \n",
       "12            6           1           0  \n",
       "13            6           1           0  "
      ]
     },
     "execution_count": 117,
     "metadata": {},
     "output_type": "execute_result"
    }
   ],
   "source": [
    "#!pip install holidays\n",
    "import holidays\n",
    "\n",
    "filtered_mbta_data[\"day_of_week\"] = filtered_mbta_data[\"service_date\"].dt.dayofweek  # Monday=0\n",
    "filtered_mbta_data[\"is_weekend\"] = filtered_mbta_data[\"day_of_week\"].isin([5, 6]).astype(int)\n",
    "\n",
    "us_holidays = holidays.US(years=[2024])\n",
    "filtered_mbta_data[\"is_holiday\"] = filtered_mbta_data[\"service_date\"].dt.date.isin(us_holidays).astype(int)\n",
    "\n",
    "print(len(filtered_mbta_data))\n",
    "filtered_mbta_data.head()"
   ]
  },
  {
   "cell_type": "code",
   "execution_count": 150,
   "id": "2d337711",
   "metadata": {},
   "outputs": [
    {
     "name": "stderr",
     "output_type": "stream",
     "text": [
      "/var/folders/3r/88snk92d11b587958zlh76b80000gn/T/ipykernel_41221/2565980952.py:12: SettingWithCopyWarning: \n",
      "A value is trying to be set on a copy of a slice from a DataFrame.\n",
      "Try using .loc[row_indexer,col_indexer] = value instead\n",
      "\n",
      "See the caveats in the documentation: https://pandas.pydata.org/pandas-docs/stable/user_guide/indexing.html#returning-a-view-versus-a-copy\n",
      "  filtered_mbta_data[\"delay_minutes\"] = (filtered_mbta_data[\"actual\"] - filtered_mbta_data[\"scheduled\"]).dt.total_seconds() / 60\n",
      "/var/folders/3r/88snk92d11b587958zlh76b80000gn/T/ipykernel_41221/2565980952.py:13: SettingWithCopyWarning: \n",
      "A value is trying to be set on a copy of a slice from a DataFrame.\n",
      "Try using .loc[row_indexer,col_indexer] = value instead\n",
      "\n",
      "See the caveats in the documentation: https://pandas.pydata.org/pandas-docs/stable/user_guide/indexing.html#returning-a-view-versus-a-copy\n",
      "  filtered_mbta_data[\"label\"] = filtered_mbta_data[\"delay_minutes\"].apply(assing_labels)\n"
     ]
    },
    {
     "data": {
      "image/png": "[encoded data removed]",
      "text/plain": [
       "<Figure size 640x480 with 1 Axes>"
      ]
     },
     "metadata": {},
     "output_type": "display_data"
    }
   ],
   "source": [
    "import matplotlib.pyplot as plt\n",
    "\n",
    "# Calculate delay in minutes and assign labels\n",
    "def assing_labels(delay):\n",
    "    if delay < -2:\n",
    "        return \"early\"\n",
    "    elif -2 <= delay <= 2:\n",
    "        return \"on_time\"\n",
    "    else:\n",
    "        return \"late\"\n",
    "\n",
    "filtered_mbta_data[\"delay_minutes\"] = (filtered_mbta_data[\"actual\"] - filtered_mbta_data[\"scheduled\"]).dt.total_seconds() / 60\n",
    "filtered_mbta_data[\"label\"] = filtered_mbta_data[\"delay_minutes\"].apply(assing_labels)\n",
    "\n",
    "filtered_mbta_data[\"label\"].value_counts().plot(kind=\"bar\", color=[\"green\", \"red\", \"blue\"])\n",
    "plt.title(\"Distribution of Train Punctuality Labels\")\n",
    "plt.xlabel(\"Label\")\n",
    "plt.ylabel(\"Count\")\n",
    "plt.show()"
   ]
  },
  {
   "cell_type": "code",
   "execution_count": 159,
   "id": "f71ba986",
   "metadata": {},
   "outputs": [
    {
     "name": "stderr",
     "output_type": "stream",
     "text": [
      "/var/folders/3r/88snk92d11b587958zlh76b80000gn/T/ipykernel_41221/2002030834.py:2: DtypeWarning: Columns (34,42,43,47,52,84,87) have mixed types. Specify dtype option on import or set low_memory=False.\n",
      "  weather_data = pd.read_csv(\"data/72509014739.csv\")\n",
      "/var/folders/3r/88snk92d11b587958zlh76b80000gn/T/ipykernel_41221/2002030834.py:33: SettingWithCopyWarning: \n",
      "A value is trying to be set on a copy of a slice from a DataFrame.\n",
      "Try using .loc[row_indexer,col_indexer] = value instead\n",
      "\n",
      "See the caveats in the documentation: https://pandas.pydata.org/pandas-docs/stable/user_guide/indexing.html#returning-a-view-versus-a-copy\n",
      "  filtered_weather_data[\"precip_aa1\"] = filtered_weather_data[\"AA1\"].apply(parse_precip)\n",
      "/var/folders/3r/88snk92d11b587958zlh76b80000gn/T/ipykernel_41221/2002030834.py:34: SettingWithCopyWarning: \n",
      "A value is trying to be set on a copy of a slice from a DataFrame.\n",
      "Try using .loc[row_indexer,col_indexer] = value instead\n",
      "\n",
      "See the caveats in the documentation: https://pandas.pydata.org/pandas-docs/stable/user_guide/indexing.html#returning-a-view-versus-a-copy\n",
      "  filtered_weather_data[\"precip_aa2\"] = filtered_weather_data[\"AA2\"].apply(parse_precip)\n",
      "/var/folders/3r/88snk92d11b587958zlh76b80000gn/T/ipykernel_41221/2002030834.py:35: SettingWithCopyWarning: \n",
      "A value is trying to be set on a copy of a slice from a DataFrame.\n",
      "Try using .loc[row_indexer,col_indexer] = value instead\n",
      "\n",
      "See the caveats in the documentation: https://pandas.pydata.org/pandas-docs/stable/user_guide/indexing.html#returning-a-view-versus-a-copy\n",
      "  filtered_weather_data[\"precip_aa3\"] = filtered_weather_data[\"AA3\"].apply(parse_precip)\n",
      "/var/folders/3r/88snk92d11b587958zlh76b80000gn/T/ipykernel_41221/2002030834.py:36: SettingWithCopyWarning: \n",
      "A value is trying to be set on a copy of a slice from a DataFrame.\n",
      "Try using .loc[row_indexer,col_indexer] = value instead\n",
      "\n",
      "See the caveats in the documentation: https://pandas.pydata.org/pandas-docs/stable/user_guide/indexing.html#returning-a-view-versus-a-copy\n",
      "  filtered_weather_data[\"TMP\"] = filtered_weather_data[\"TMP\"].apply(parse_tmp_to_int)\n"
     ]
    },
    {
     "data": {
      "text/html": [
       "<div>\n",
       "<style scoped>\n",
       "    .dataframe tbody tr th:only-of-type {\n",
       "        vertical-align: middle;\n",
       "    }\n",
       "\n",
       "    .dataframe tbody tr th {\n",
       "        vertical-align: top;\n",
       "    }\n",
       "\n",
       "    .dataframe thead th {\n",
       "        text-align: right;\n",
       "    }\n",
       "</style>\n",
       "<table border=\"1\" class=\"dataframe\">\n",
       "  <thead>\n",
       "    <tr style=\"text-align: right;\">\n",
       "      <th></th>\n",
       "      <th>DATE</th>\n",
       "      <th>WND</th>\n",
       "      <th>TMP</th>\n",
       "      <th>precip_aa1</th>\n",
       "      <th>precip_aa2</th>\n",
       "      <th>precip_aa3</th>\n",
       "      <th>wind_dir_deg</th>\n",
       "      <th>wind_speed_mps</th>\n",
       "      <th>precip_mm</th>\n",
       "      <th>is_rainy</th>\n",
       "    </tr>\n",
       "  </thead>\n",
       "  <tbody>\n",
       "    <tr>\n",
       "      <th>0</th>\n",
       "      <td>2024-01-01 00:00:00</td>\n",
       "      <td>340,1,N,0046,1</td>\n",
       "      <td>2</td>\n",
       "      <td>0.0</td>\n",
       "      <td>0.0</td>\n",
       "      <td>0.0</td>\n",
       "      <td>340</td>\n",
       "      <td>5</td>\n",
       "      <td>0.0</td>\n",
       "      <td>0</td>\n",
       "    </tr>\n",
       "    <tr>\n",
       "      <th>1</th>\n",
       "      <td>2024-01-01 00:54:00</td>\n",
       "      <td>350,5,N,0046,5</td>\n",
       "      <td>1</td>\n",
       "      <td>0.1</td>\n",
       "      <td>0.0</td>\n",
       "      <td>0.0</td>\n",
       "      <td>350</td>\n",
       "      <td>5</td>\n",
       "      <td>0.1</td>\n",
       "      <td>1</td>\n",
       "    </tr>\n",
       "    <tr>\n",
       "      <th>2</th>\n",
       "      <td>2024-01-01 01:54:00</td>\n",
       "      <td>340,5,N,0036,5</td>\n",
       "      <td>1</td>\n",
       "      <td>0.1</td>\n",
       "      <td>0.0</td>\n",
       "      <td>0.0</td>\n",
       "      <td>340</td>\n",
       "      <td>4</td>\n",
       "      <td>0.1</td>\n",
       "      <td>1</td>\n",
       "    </tr>\n",
       "    <tr>\n",
       "      <th>3</th>\n",
       "      <td>2024-01-01 02:54:00</td>\n",
       "      <td>340,5,N,0036,5</td>\n",
       "      <td>1</td>\n",
       "      <td>0.1</td>\n",
       "      <td>0.0</td>\n",
       "      <td>0.0</td>\n",
       "      <td>340</td>\n",
       "      <td>4</td>\n",
       "      <td>0.1</td>\n",
       "      <td>1</td>\n",
       "    </tr>\n",
       "    <tr>\n",
       "      <th>4</th>\n",
       "      <td>2024-01-01 03:00:00</td>\n",
       "      <td>340,1,N,0036,1</td>\n",
       "      <td>1</td>\n",
       "      <td>0.0</td>\n",
       "      <td>0.0</td>\n",
       "      <td>0.0</td>\n",
       "      <td>340</td>\n",
       "      <td>4</td>\n",
       "      <td>0.0</td>\n",
       "      <td>0</td>\n",
       "    </tr>\n",
       "  </tbody>\n",
       "</table>\n",
       "</div>"
      ],
      "text/plain": [
       "                 DATE             WND  TMP  precip_aa1  precip_aa2   \n",
       "0 2024-01-01 00:00:00  340,1,N,0046,1    2         0.0         0.0  \\\n",
       "1 2024-01-01 00:54:00  350,5,N,0046,5    1         0.1         0.0   \n",
       "2 2024-01-01 01:54:00  340,5,N,0036,5    1         0.1         0.0   \n",
       "3 2024-01-01 02:54:00  340,5,N,0036,5    1         0.1         0.0   \n",
       "4 2024-01-01 03:00:00  340,1,N,0036,1    1         0.0         0.0   \n",
       "\n",
       "   precip_aa3  wind_dir_deg  wind_speed_mps  precip_mm  is_rainy  \n",
       "0         0.0           340               5        0.0         0  \n",
       "1         0.0           350               5        0.1         1  \n",
       "2         0.0           340               4        0.1         1  \n",
       "3         0.0           340               4        0.1         1  \n",
       "4         0.0           340               4        0.0         0  "
      ]
     },
     "execution_count": 159,
     "metadata": {},
     "output_type": "execute_result"
    }
   ],
   "source": [
    "#Prepare weather data\n",
    "weather_data = pd.read_csv(\"data/72509014739.csv\")\n",
    "weather_data[\"DATE\"] = pd.to_datetime(weather_data[\"DATE\"])\n",
    "filtered_weather_data = weather_data[[\"DATE\",\"WND\",\"TMP\",\"AA1\",\"AA2\",\"AA3\"]]\n",
    "def parse_precip(field):\n",
    "    try:\n",
    "        return float(field.split(\",\")[0]) / 10\n",
    "    except:\n",
    "        return 0.0\n",
    "    \n",
    "def parse_tmp_to_int(tmp):\n",
    "    try:\n",
    "        value = int(tmp.split(\",\")[0])\n",
    "        return round(value / 10)\n",
    "    except:\n",
    "        return None  # handle missing or malformed values\n",
    "    \n",
    "def parse_wnd(wnd):\n",
    "    try:\n",
    "        parts = wnd.split(\",\")\n",
    "        wind_dir_deg = int(parts[0])\n",
    "        wind_speed_mps = round(int(parts[3]) / 10)\n",
    "        return pd.Series({\n",
    "            \"wind_dir_deg\": wind_dir_deg,\n",
    "            \"wind_speed_mps\": wind_speed_mps\n",
    "        })\n",
    "    except:\n",
    "        return pd.Series({\n",
    "            \"wind_dir_deg\": None,\n",
    "            \"wind_speed_mps\": None\n",
    "        })\n",
    "    \n",
    "filtered_weather_data[\"precip_aa1\"] = filtered_weather_data[\"AA1\"].apply(parse_precip)\n",
    "filtered_weather_data[\"precip_aa2\"] = filtered_weather_data[\"AA2\"].apply(parse_precip)\n",
    "filtered_weather_data[\"precip_aa3\"] = filtered_weather_data[\"AA3\"].apply(parse_precip)\n",
    "filtered_weather_data[\"TMP\"] = filtered_weather_data[\"TMP\"].apply(parse_tmp_to_int)\n",
    "df_wind = filtered_weather_data[\"WND\"].apply(parse_wnd)\n",
    "filtered_weather_data = pd.concat([filtered_weather_data, df_wind], axis=1)\n",
    "\n",
    "filtered_weather_data[\"precip_mm\"] = filtered_weather_data[[\"precip_aa1\", \"precip_aa2\", \"precip_aa3\"]].sum(axis=1)\n",
    "filtered_weather_data = filtered_weather_data.drop(columns=[\"AA1\",\"AA2\",\"AA3\"])\n",
    "filtered_weather_data[\"is_rainy\"] = (filtered_weather_data[\"precip_mm\"] > 0).astype(int)\n",
    "\n",
    "filtered_weather_data = filtered_weather_data[filtered_weather_data[\"TMP\"] < 45]\n",
    "filtered_weather_data = filtered_weather_data[filtered_weather_data[\"wind_speed_mps\"] < 999]\n",
    "\n",
    "filtered_weather_data.head()\n",
    "\n",
    "\n"
   ]
  },
  {
   "cell_type": "code",
   "execution_count": 160,
   "id": "bd8850c8",
   "metadata": {},
   "outputs": [
    {
     "data": {
      "image/png": "[encoded data removed]",
      "text/plain": [
       "<Figure size 1200x500 with 1 Axes>"
      ]
     },
     "metadata": {},
     "output_type": "display_data"
    }
   ],
   "source": [
    "# Count per bin\n",
    "temp_counts = filtered_weather_data[\"TMP\"].value_counts().sort_index()\n",
    "\n",
    "# Plot\n",
    "temp_counts.plot(kind=\"bar\", color=\"orange\", figsize=(12,5))\n",
    "plt.title(\"Temperature Distribution (binned)\")\n",
    "plt.xlabel(\"Temperature (°C)\")\n",
    "plt.ylabel(\"Count\")\n",
    "plt.show()\n"
   ]
  },
  {
   "cell_type": "code",
   "execution_count": 161,
   "id": "bd6915df",
   "metadata": {},
   "outputs": [
    {
     "data": {
      "image/png": "[encoded data removed]",
      "text/plain": [
       "<Figure size 1200x500 with 1 Axes>"
      ]
     },
     "metadata": {},
     "output_type": "display_data"
    }
   ],
   "source": [
    "# Count per bin\n",
    "wind_counts = filtered_weather_data[\"wind_speed_mps\"].value_counts().sort_index()\n",
    "\n",
    "# Plot\n",
    "wind_counts.plot(kind=\"bar\", color=\"blue\", figsize=(12,5))\n",
    "plt.title(\"Wind Distribution (binned)\")\n",
    "plt.xlabel(\"Wind (m/s)\")\n",
    "plt.ylabel(\"Count\")\n",
    "plt.show()"
   ]
  },
  {
   "cell_type": "code",
   "execution_count": 162,
   "id": "2d12a680",
   "metadata": {},
   "outputs": [
    {
     "data": {
      "image/png": "[encoded data removed]",
      "text/plain": [
       "<Figure size 640x480 with 1 Axes>"
      ]
     },
     "metadata": {},
     "output_type": "display_data"
    }
   ],
   "source": [
    "rain_counts = filtered_weather_data[\"is_rainy\"].value_counts()\n",
    "\n",
    "# Plot\n",
    "rain_counts.plot(kind=\"bar\", color=[\"skyblue\", \"blue\"])\n",
    "plt.xticks([0, 1], [\"No Rain\", \"Rain\"], rotation=0)\n",
    "plt.ylabel(\"Number of Observations\")\n",
    "plt.title(\"Rainy vs Non-Rainy Observations\")\n",
    "plt.show()"
   ]
  },
  {
   "cell_type": "code",
   "execution_count": 163,
   "id": "c8ded0b8",
   "metadata": {},
   "outputs": [
    {
     "name": "stdout",
     "output_type": "stream",
     "text": [
      "10530554\n",
      "10530554\n"
     ]
    },
    {
     "data": {
      "text/html": [
       "<div>\n",
       "<style scoped>\n",
       "    .dataframe tbody tr th:only-of-type {\n",
       "        vertical-align: middle;\n",
       "    }\n",
       "\n",
       "    .dataframe tbody tr th {\n",
       "        vertical-align: top;\n",
       "    }\n",
       "\n",
       "    .dataframe thead th {\n",
       "        text-align: right;\n",
       "    }\n",
       "</style>\n",
       "<table border=\"1\" class=\"dataframe\">\n",
       "  <thead>\n",
       "    <tr style=\"text-align: right;\">\n",
       "      <th></th>\n",
       "      <th>service_date</th>\n",
       "      <th>route_id</th>\n",
       "      <th>scheduled</th>\n",
       "      <th>actual</th>\n",
       "      <th>day_of_week</th>\n",
       "      <th>is_weekend</th>\n",
       "      <th>is_holiday</th>\n",
       "      <th>delay_minutes</th>\n",
       "      <th>label</th>\n",
       "      <th>DATE</th>\n",
       "      <th>WND</th>\n",
       "      <th>TMP</th>\n",
       "      <th>precip_aa1</th>\n",
       "      <th>precip_aa2</th>\n",
       "      <th>precip_aa3</th>\n",
       "      <th>wind_dir_deg</th>\n",
       "      <th>wind_speed_mps</th>\n",
       "      <th>precip_mm</th>\n",
       "      <th>is_rainy</th>\n",
       "    </tr>\n",
       "  </thead>\n",
       "  <tbody>\n",
       "    <tr>\n",
       "      <th>0</th>\n",
       "      <td>2024-01-01</td>\n",
       "      <td>SL4</td>\n",
       "      <td>1900-01-01 17:34:00+00:00</td>\n",
       "      <td>1900-01-01 17:39:39+00:00</td>\n",
       "      <td>0</td>\n",
       "      <td>0</td>\n",
       "      <td>1</td>\n",
       "      <td>5.650000</td>\n",
       "      <td>late</td>\n",
       "      <td>2024-01-01</td>\n",
       "      <td>340,1,N,0046,1</td>\n",
       "      <td>2</td>\n",
       "      <td>0.0</td>\n",
       "      <td>0.0</td>\n",
       "      <td>0.0</td>\n",
       "      <td>340</td>\n",
       "      <td>5</td>\n",
       "      <td>0.0</td>\n",
       "      <td>0</td>\n",
       "    </tr>\n",
       "    <tr>\n",
       "      <th>1</th>\n",
       "      <td>2024-01-01</td>\n",
       "      <td>66</td>\n",
       "      <td>1900-01-01 21:20:00+00:00</td>\n",
       "      <td>1900-01-01 21:19:51+00:00</td>\n",
       "      <td>0</td>\n",
       "      <td>0</td>\n",
       "      <td>1</td>\n",
       "      <td>-0.150000</td>\n",
       "      <td>on_time</td>\n",
       "      <td>2024-01-01</td>\n",
       "      <td>340,1,N,0046,1</td>\n",
       "      <td>2</td>\n",
       "      <td>0.0</td>\n",
       "      <td>0.0</td>\n",
       "      <td>0.0</td>\n",
       "      <td>340</td>\n",
       "      <td>5</td>\n",
       "      <td>0.0</td>\n",
       "      <td>0</td>\n",
       "    </tr>\n",
       "    <tr>\n",
       "      <th>2</th>\n",
       "      <td>2024-01-01</td>\n",
       "      <td>66</td>\n",
       "      <td>1900-01-01 21:17:00+00:00</td>\n",
       "      <td>1900-01-01 21:21:49+00:00</td>\n",
       "      <td>0</td>\n",
       "      <td>0</td>\n",
       "      <td>1</td>\n",
       "      <td>4.816667</td>\n",
       "      <td>late</td>\n",
       "      <td>2024-01-01</td>\n",
       "      <td>340,1,N,0046,1</td>\n",
       "      <td>2</td>\n",
       "      <td>0.0</td>\n",
       "      <td>0.0</td>\n",
       "      <td>0.0</td>\n",
       "      <td>340</td>\n",
       "      <td>5</td>\n",
       "      <td>0.0</td>\n",
       "      <td>0</td>\n",
       "    </tr>\n",
       "    <tr>\n",
       "      <th>3</th>\n",
       "      <td>2024-01-01</td>\n",
       "      <td>66</td>\n",
       "      <td>1900-01-01 21:13:00+00:00</td>\n",
       "      <td>1900-01-01 21:17:16+00:00</td>\n",
       "      <td>0</td>\n",
       "      <td>0</td>\n",
       "      <td>1</td>\n",
       "      <td>4.266667</td>\n",
       "      <td>late</td>\n",
       "      <td>2024-01-01</td>\n",
       "      <td>340,1,N,0046,1</td>\n",
       "      <td>2</td>\n",
       "      <td>0.0</td>\n",
       "      <td>0.0</td>\n",
       "      <td>0.0</td>\n",
       "      <td>340</td>\n",
       "      <td>5</td>\n",
       "      <td>0.0</td>\n",
       "      <td>0</td>\n",
       "    </tr>\n",
       "    <tr>\n",
       "      <th>4</th>\n",
       "      <td>2024-01-01</td>\n",
       "      <td>66</td>\n",
       "      <td>1900-01-01 21:10:00+00:00</td>\n",
       "      <td>1900-01-01 21:10:17+00:00</td>\n",
       "      <td>0</td>\n",
       "      <td>0</td>\n",
       "      <td>1</td>\n",
       "      <td>0.283333</td>\n",
       "      <td>on_time</td>\n",
       "      <td>2024-01-01</td>\n",
       "      <td>340,1,N,0046,1</td>\n",
       "      <td>2</td>\n",
       "      <td>0.0</td>\n",
       "      <td>0.0</td>\n",
       "      <td>0.0</td>\n",
       "      <td>340</td>\n",
       "      <td>5</td>\n",
       "      <td>0.0</td>\n",
       "      <td>0</td>\n",
       "    </tr>\n",
       "  </tbody>\n",
       "</table>\n",
       "</div>"
      ],
      "text/plain": [
       "  service_date route_id                 scheduled                    actual   \n",
       "0   2024-01-01      SL4 1900-01-01 17:34:00+00:00 1900-01-01 17:39:39+00:00  \\\n",
       "1   2024-01-01       66 1900-01-01 21:20:00+00:00 1900-01-01 21:19:51+00:00   \n",
       "2   2024-01-01       66 1900-01-01 21:17:00+00:00 1900-01-01 21:21:49+00:00   \n",
       "3   2024-01-01       66 1900-01-01 21:13:00+00:00 1900-01-01 21:17:16+00:00   \n",
       "4   2024-01-01       66 1900-01-01 21:10:00+00:00 1900-01-01 21:10:17+00:00   \n",
       "\n",
       "   day_of_week  is_weekend  is_holiday  delay_minutes    label       DATE   \n",
       "0            0           0           1       5.650000     late 2024-01-01  \\\n",
       "1            0           0           1      -0.150000  on_time 2024-01-01   \n",
       "2            0           0           1       4.816667     late 2024-01-01   \n",
       "3            0           0           1       4.266667     late 2024-01-01   \n",
       "4            0           0           1       0.283333  on_time 2024-01-01   \n",
       "\n",
       "              WND  TMP  precip_aa1  precip_aa2  precip_aa3  wind_dir_deg   \n",
       "0  340,1,N,0046,1    2         0.0         0.0         0.0           340  \\\n",
       "1  340,1,N,0046,1    2         0.0         0.0         0.0           340   \n",
       "2  340,1,N,0046,1    2         0.0         0.0         0.0           340   \n",
       "3  340,1,N,0046,1    2         0.0         0.0         0.0           340   \n",
       "4  340,1,N,0046,1    2         0.0         0.0         0.0           340   \n",
       "\n",
       "   wind_speed_mps  precip_mm  is_rainy  \n",
       "0               5        0.0         0  \n",
       "1               5        0.0         0  \n",
       "2               5        0.0         0  \n",
       "3               5        0.0         0  \n",
       "4               5        0.0         0  "
      ]
     },
     "execution_count": 163,
     "metadata": {},
     "output_type": "execute_result"
    }
   ],
   "source": [
    "# Merge based on closest timestamp\n",
    "combined = pd.merge_asof(\n",
    "    filtered_mbta_data.sort_values(\"service_date\"),\n",
    "    filtered_weather_data.sort_values(\"DATE\"),\n",
    "    left_on=\"service_date\",\n",
    "    right_on=\"DATE\",\n",
    "    direction=\"nearest\",\n",
    "    tolerance=pd.Timedelta(\"1h\")\n",
    ")\n",
    "\n",
    "print(len(combined))\n",
    "\n",
    "combined.dropna(inplace=True)\n",
    "print(len(combined))\n",
    "combined.head()"
   ]
  },
  {
   "cell_type": "code",
   "execution_count": 169,
   "id": "2a0ef6a8",
   "metadata": {},
   "outputs": [
    {
     "name": "stderr",
     "output_type": "stream",
     "text": [
      "[Parallel(n_jobs=1)]: Using backend SequentialBackend with 1 concurrent workers.\n"
     ]
    },
    {
     "name": "stdout",
     "output_type": "stream",
     "text": [
      "building tree 1 of 50\n"
     ]
    },
    {
     "name": "stderr",
     "output_type": "stream",
     "text": [
      "[Parallel(n_jobs=1)]: Done   1 out of   1 | elapsed:    5.2s remaining:    0.0s\n"
     ]
    },
    {
     "name": "stdout",
     "output_type": "stream",
     "text": [
      "building tree 2 of 50\n",
      "building tree 3 of 50\n",
      "building tree 4 of 50\n",
      "building tree 5 of 50\n",
      "building tree 6 of 50\n",
      "building tree 7 of 50\n",
      "building tree 8 of 50\n",
      "building tree 9 of 50\n",
      "building tree 10 of 50\n",
      "building tree 11 of 50\n",
      "building tree 12 of 50\n",
      "building tree 13 of 50\n",
      "building tree 14 of 50\n",
      "building tree 15 of 50\n",
      "building tree 16 of 50\n",
      "building tree 17 of 50\n",
      "building tree 18 of 50\n",
      "building tree 19 of 50\n",
      "building tree 20 of 50\n",
      "building tree 21 of 50\n",
      "building tree 22 of 50\n",
      "building tree 23 of 50\n",
      "building tree 24 of 50\n",
      "building tree 25 of 50\n",
      "building tree 26 of 50\n",
      "building tree 27 of 50\n",
      "building tree 28 of 50\n",
      "building tree 29 of 50\n",
      "building tree 30 of 50\n",
      "building tree 31 of 50\n",
      "building tree 32 of 50\n",
      "building tree 33 of 50\n",
      "building tree 34 of 50\n",
      "building tree 35 of 50\n",
      "building tree 36 of 50\n",
      "building tree 37 of 50\n",
      "building tree 38 of 50\n",
      "building tree 39 of 50\n",
      "building tree 40 of 50\n",
      "building tree 41 of 50\n",
      "building tree 42 of 50\n",
      "building tree 43 of 50\n",
      "building tree 44 of 50\n",
      "building tree 45 of 50\n",
      "building tree 46 of 50\n",
      "building tree 47 of 50\n",
      "building tree 48 of 50\n",
      "building tree 49 of 50\n",
      "building tree 50 of 50\n"
     ]
    },
    {
     "name": "stderr",
     "output_type": "stream",
     "text": [
      "[Parallel(n_jobs=1)]: Done  50 out of  50 | elapsed:  4.1min finished\n",
      "[Parallel(n_jobs=1)]: Using backend SequentialBackend with 1 concurrent workers.\n",
      "[Parallel(n_jobs=1)]: Done   1 out of   1 | elapsed:    0.3s remaining:    0.0s\n",
      "[Parallel(n_jobs=1)]: Done  50 out of  50 | elapsed:   15.7s finished\n"
     ]
    },
    {
     "name": "stdout",
     "output_type": "stream",
     "text": [
      "              precision    recall  f1-score   support\n",
      "\n",
      "       early       0.22      0.55      0.31    204109\n",
      "        late       0.72      0.60      0.65   1196397\n",
      "     on_time       0.44      0.36      0.40    705605\n",
      "\n",
      "    accuracy                           0.52   2106111\n",
      "   macro avg       0.46      0.51      0.45   2106111\n",
      "weighted avg       0.58      0.52      0.54   2106111\n",
      "\n"
     ]
    }
   ],
   "source": [
    "# Train random forest model\n",
    "from sklearn.model_selection import train_test_split\n",
    "from sklearn.preprocessing import LabelEncoder\n",
    "from sklearn.ensemble import RandomForestClassifier\n",
    "from sklearn.metrics import classification_report\n",
    "\n",
    "label_encoder = LabelEncoder()\n",
    "combined[\"label_encoded\"] = label_encoder.fit_transform(combined[\"label\"])\n",
    "combined['route_encoded'] = LabelEncoder().fit_transform(combined['route_id'])\n",
    "\n",
    "features = [\n",
    "    \"route_encoded\", \"day_of_week\", \"is_weekend\", \"is_holiday\",\n",
    "    \"TMP\", \"is_rainy\", \"wind_speed_mps\", \"wind_dir_deg\"\n",
    "]\n",
    "\n",
    "X = combined[features]\n",
    "y = combined[\"label_encoded\"]\n",
    "\n",
    "X_train, X_test, y_train, y_test = train_test_split(X, y, test_size=0.2, random_state=42, stratify=y)\n",
    "\n",
    "rf = RandomForestClassifier(\n",
    "    n_estimators=50,\n",
    "    max_depth=20,\n",
    "    class_weight=\"balanced\",\n",
    "    random_state=42,\n",
    "    verbose=2\n",
    ")\n",
    "rf.fit(X_train, y_train)\n",
    "\n",
    "# Evaluate\n",
    "y_pred = rf.predict(X_test)\n",
    "print(classification_report(y_test, y_pred, target_names=label_encoder.classes_))"
   ]
  }
 ],
 "metadata": {
  "kernelspec": {
   "display_name": "Python 3",
   "language": "python",
   "name": "python3"
  },
  "language_info": {
   "codemirror_mode": {
    "name": "ipython",
    "version": 3
   },
   "file_extension": ".py",
   "mimetype": "text/x-python",
   "name": "python",
   "nbconvert_exporter": "python",
   "pygments_lexer": "ipython3",
   "version": "3.11.3"
  }
 },
 "nbformat": 4,
 "nbformat_minor": 5
}
