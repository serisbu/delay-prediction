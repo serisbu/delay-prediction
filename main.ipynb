{
 "cells": [
  {
   "cell_type": "code",
   "execution_count": 9,
   "id": "4e0054d2",
   "metadata": {},
   "outputs": [],
   "source": [
    "%load_ext autoreload\n",
    "%autoreload 2"
   ]
  },
  {
   "cell_type": "code",
   "execution_count": 10,
   "id": "fffc8eb2",
   "metadata": {},
   "outputs": [
    {
     "name": "stdout",
     "output_type": "stream",
     "text": [
      "data/MBTA_Bus_Arrival_Departure_Times_2024 folder already exists, skipping download and unzip\n",
      "data/MBTA_Bus_Arrival_Departure_Times_2025 folder already exists, skipping download and unzip\n"
     ]
    }
   ],
   "source": [
    "# Download MBTA bus data if it hasn't been downloaded yet\n",
    "from download_mbta_data import download_mbta_bus_data\n",
    "\n",
    "download_mbta_bus_data()"
   ]
  },
  {
   "cell_type": "code",
   "execution_count": 19,
   "id": "6a08a185",
   "metadata": {},
   "outputs": [
    {
     "name": "stdout",
     "output_type": "stream",
     "text": [
      "2024 data already exists, skipping download\n"
     ]
    }
   ],
   "source": [
    "from retrieve_weather_data import retrieve_weather_data\n",
    "\n",
    "retrieve_weather_data()"
   ]
  }
 ],
 "metadata": {
  "kernelspec": {
   "display_name": "Python 3",
   "language": "python",
   "name": "python3"
  },
  "language_info": {
   "codemirror_mode": {
    "name": "ipython",
    "version": 3
   },
   "file_extension": ".py",
   "mimetype": "text/x-python",
   "name": "python",
   "nbconvert_exporter": "python",
   "pygments_lexer": "ipython3",
   "version": "3.11.3"
  }
 },
 "nbformat": 4,
 "nbformat_minor": 5
}
